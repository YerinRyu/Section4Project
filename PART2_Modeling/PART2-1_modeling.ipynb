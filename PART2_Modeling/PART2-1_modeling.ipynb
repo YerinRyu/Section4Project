{
 "cells": [
  {
   "attachments": {},
   "cell_type": "markdown",
   "metadata": {},
   "source": [
    "# PART2-1 Modeling: xgboost.XGBRFRegressor\n",
    "wather 정보를 바탕으로 해당 날짜의 날씨를 예측하는 모델입니다.\n",
    "- 예측할 날씨: 기온, 강수 유무, 눈 유무"
   ]
  },
  {
   "attachments": {},
   "cell_type": "markdown",
   "metadata": {},
   "source": [
    "### Library"
   ]
  },
  {
   "cell_type": "code",
   "execution_count": 1,
   "metadata": {},
   "outputs": [],
   "source": [
    "# 기본 library\n",
    "import warnings\n",
    "warnings.filterwarnings(action='ignore')\n",
    "import pandas as pd\n",
    "import numpy as np\n",
    "import matplotlib.pyplot as plt\n",
    "import seaborn as sns\n",
    "\n",
    "# sklearn library\n",
    "import sklearn\n",
    "from sklearn.model_selection import train_test_split\n",
    "from sklearn.metrics import explained_variance_score, mean_squared_error, mean_absolute_error, r2_score\n",
    "from sklearn.pipeline import make_pipeline\n",
    "from sklearn.metrics import accuracy_score, precision_score, recall_score, f1_score, log_loss\n",
    "\n",
    "# preprocessing\n",
    "# from category_encoders import OrdinalEncoder, OneHotEncoder, CountEncoder, TargetEncoder\n",
    "from sklearn.impute import SimpleImputer\n",
    "from sklearn.preprocessing import MinMaxScaler, StandardScaler, KBinsDiscretizer, QuantileTransformer\n",
    "\n",
    "# Model library\n",
    "from xgboost import XGBRegressor, XGBClassifier\n",
    "from sklearn.ensemble import RandomForestRegressor\n",
    "\n",
    "# tuning\n",
    "from scipy.stats.distributions import uniform\n",
    "from sklearn.model_selection import RandomizedSearchCV, GridSearchCV\n",
    "\n",
    "# feature 해석 library\n",
    "from scipy.stats import spearmanr\n",
    "from sklearn.feature_selection import SelectKBest, mutual_info_classif"
   ]
  },
  {
   "attachments": {},
   "cell_type": "markdown",
   "metadata": {},
   "source": [
    "### PreProcessing\n",
    "\n",
    "### 필요한 Column\n",
    "- tm: 시간\n",
    "- ta: 기온\n",
    "- dsnw: 적설\n",
    "- rn: 강수"
   ]
  },
  {
   "cell_type": "code",
   "execution_count": 2,
   "metadata": {},
   "outputs": [
    {
     "data": {
      "text/html": [
       "<div>\n",
       "<style scoped>\n",
       "    .dataframe tbody tr th:only-of-type {\n",
       "        vertical-align: middle;\n",
       "    }\n",
       "\n",
       "    .dataframe tbody tr th {\n",
       "        vertical-align: top;\n",
       "    }\n",
       "\n",
       "    .dataframe thead th {\n",
       "        text-align: right;\n",
       "    }\n",
       "</style>\n",
       "<table border=\"1\" class=\"dataframe\">\n",
       "  <thead>\n",
       "    <tr style=\"text-align: right;\">\n",
       "      <th></th>\n",
       "      <th>tm</th>\n",
       "      <th>ta</th>\n",
       "      <th>rn</th>\n",
       "      <th>dsnw</th>\n",
       "    </tr>\n",
       "  </thead>\n",
       "  <tbody>\n",
       "    <tr>\n",
       "      <th>0</th>\n",
       "      <td>2012-01-01 00:00</td>\n",
       "      <td>0.4</td>\n",
       "      <td>NaN</td>\n",
       "      <td>NaN</td>\n",
       "    </tr>\n",
       "    <tr>\n",
       "      <th>1</th>\n",
       "      <td>2012-01-01 01:00</td>\n",
       "      <td>0.3</td>\n",
       "      <td>NaN</td>\n",
       "      <td>NaN</td>\n",
       "    </tr>\n",
       "    <tr>\n",
       "      <th>2</th>\n",
       "      <td>2012-01-01 02:00</td>\n",
       "      <td>-0.1</td>\n",
       "      <td>NaN</td>\n",
       "      <td>NaN</td>\n",
       "    </tr>\n",
       "    <tr>\n",
       "      <th>3</th>\n",
       "      <td>2012-01-01 03:00</td>\n",
       "      <td>-0.5</td>\n",
       "      <td>NaN</td>\n",
       "      <td>NaN</td>\n",
       "    </tr>\n",
       "    <tr>\n",
       "      <th>4</th>\n",
       "      <td>2012-01-01 04:00</td>\n",
       "      <td>-1.2</td>\n",
       "      <td>NaN</td>\n",
       "      <td>NaN</td>\n",
       "    </tr>\n",
       "    <tr>\n",
       "      <th>...</th>\n",
       "      <td>...</td>\n",
       "      <td>...</td>\n",
       "      <td>...</td>\n",
       "      <td>...</td>\n",
       "    </tr>\n",
       "    <tr>\n",
       "      <th>184690</th>\n",
       "      <td>2003-12-26 19:00</td>\n",
       "      <td>-3.2</td>\n",
       "      <td>NaN</td>\n",
       "      <td>NaN</td>\n",
       "    </tr>\n",
       "    <tr>\n",
       "      <th>184691</th>\n",
       "      <td>2003-12-26 20:00</td>\n",
       "      <td>-3.9</td>\n",
       "      <td>NaN</td>\n",
       "      <td>NaN</td>\n",
       "    </tr>\n",
       "    <tr>\n",
       "      <th>184692</th>\n",
       "      <td>2003-12-26 21:00</td>\n",
       "      <td>-4.5</td>\n",
       "      <td>NaN</td>\n",
       "      <td>NaN</td>\n",
       "    </tr>\n",
       "    <tr>\n",
       "      <th>184693</th>\n",
       "      <td>2003-12-26 22:00</td>\n",
       "      <td>-4.9</td>\n",
       "      <td>NaN</td>\n",
       "      <td>NaN</td>\n",
       "    </tr>\n",
       "    <tr>\n",
       "      <th>184694</th>\n",
       "      <td>2003-12-26 23:00</td>\n",
       "      <td>-5.3</td>\n",
       "      <td>NaN</td>\n",
       "      <td>NaN</td>\n",
       "    </tr>\n",
       "  </tbody>\n",
       "</table>\n",
       "<p>184695 rows × 4 columns</p>\n",
       "</div>"
      ],
      "text/plain": [
       "                      tm   ta  rn  dsnw\n",
       "0       2012-01-01 00:00  0.4 NaN   NaN\n",
       "1       2012-01-01 01:00  0.3 NaN   NaN\n",
       "2       2012-01-01 02:00 -0.1 NaN   NaN\n",
       "3       2012-01-01 03:00 -0.5 NaN   NaN\n",
       "4       2012-01-01 04:00 -1.2 NaN   NaN\n",
       "...                  ...  ...  ..   ...\n",
       "184690  2003-12-26 19:00 -3.2 NaN   NaN\n",
       "184691  2003-12-26 20:00 -3.9 NaN   NaN\n",
       "184692  2003-12-26 21:00 -4.5 NaN   NaN\n",
       "184693  2003-12-26 22:00 -4.9 NaN   NaN\n",
       "184694  2003-12-26 23:00 -5.3 NaN   NaN\n",
       "\n",
       "[184695 rows x 4 columns]"
      ]
     },
     "execution_count": 2,
     "metadata": {},
     "output_type": "execute_result"
    }
   ],
   "source": [
    "df = pd.read_csv('/Users/yerin/AIB/section4/project/PART1_DB/weather.csv')\n",
    "df = df[['tm', 'ta', 'rn', 'dsnw']]\n",
    "df"
   ]
  },
  {
   "cell_type": "code",
   "execution_count": 3,
   "metadata": {},
   "outputs": [],
   "source": [
    "df_original = df.copy()"
   ]
  },
  {
   "cell_type": "code",
   "execution_count": 4,
   "metadata": {},
   "outputs": [],
   "source": [
    "df = df_original"
   ]
  },
  {
   "cell_type": "code",
   "execution_count": 5,
   "metadata": {},
   "outputs": [
    {
     "name": "stdout",
     "output_type": "stream",
     "text": [
      "<class 'pandas.core.frame.DataFrame'>\n",
      "RangeIndex: 184695 entries, 0 to 184694\n",
      "Data columns (total 4 columns):\n",
      " #   Column  Non-Null Count   Dtype  \n",
      "---  ------  --------------   -----  \n",
      " 0   tm      184695 non-null  object \n",
      " 1   ta      184687 non-null  float64\n",
      " 2   rn      18925 non-null   float64\n",
      " 3   dsnw    8168 non-null    float64\n",
      "dtypes: float64(3), object(1)\n",
      "memory usage: 5.6+ MB\n"
     ]
    }
   ],
   "source": [
    "df.info()"
   ]
  },
  {
   "cell_type": "code",
   "execution_count": 6,
   "metadata": {},
   "outputs": [],
   "source": [
    "def feature_engineering(df):\n",
    "    \n",
    "    # split tm\n",
    "    df['tm'] = pd.to_datetime(df['tm'])\n",
    "    df['year'] = df['tm'].dt.year\n",
    "    df['month'] = df['tm'].dt.month\n",
    "    df['day'] = df['tm'].dt.day\n",
    "    df['time'] = df['tm'].dt.hour\n",
    "\n",
    "    df = df.drop('tm', axis=1)\n",
    "    df = df.sort_values(['year', 'month']).reset_index(drop=True)\n",
    "    \n",
    "    # Missing Value\n",
    "    df.rn = df.rn.fillna(0)\n",
    "    df.dsnw = df.dsnw.fillna(0)\n",
    "    df['ta'] = df.groupby(['month', 'day'])['ta'].transform(lambda x: x.fillna(x.mean()))\n",
    "    \n",
    "    # rain 분류\n",
    "    idx0 = df[df.rn == 0].index\n",
    "    idx1 = df[df.rn > 0].index\n",
    "    idx2 = df[df.rn > 20].index\n",
    "    \n",
    "    df.rn.loc[idx0] = \"맑음\"\n",
    "    df.rn.loc[idx1] = \"비\"\n",
    "    df.rn.loc[idx2] = \"많은 비\"\n",
    "    \n",
    "    # snow\n",
    "    idx_snow = df[df.dsnw > 0].index\n",
    "    idx_no = df[df.dsnw == 0].index\n",
    "    \n",
    "    df.dsnw.loc[idx_snow] = \"눈\"\n",
    "    df.dsnw.loc[idx_no] = \"눈 없음\"\n",
    "\n",
    "    \n",
    "    return df"
   ]
  },
  {
   "cell_type": "code",
   "execution_count": 7,
   "metadata": {},
   "outputs": [],
   "source": [
    "df = feature_engineering(df)"
   ]
  },
  {
   "cell_type": "code",
   "execution_count": 8,
   "metadata": {},
   "outputs": [
    {
     "data": {
      "text/plain": [
       "\"\\ndef get_time_range(hour):\\n    if 0 <= hour <= 6:\\n        return '새벽'\\n    elif 6 <= hour <= 11:\\n        return '오전'\\n    elif 12 <= hour <= 17:\\n        return '오후'\\n    else:\\n        return '저녁'\\n\\n# 시간대 및 날짜별 강수량 평균 계산\\ndf['time_range'] = df['time'].apply(get_time_range)\\ndf_avg_rain = df.groupby(['year', 'month', 'day', 'time_range'])['rn'].mean().reset_index()\\n\\n# 시간대별 평균값으로 채워넣기\\ndf = df.merge(df_avg_rain, on=['year', 'month', 'day', 'time_range'], how='left', suffixes=('', '_avg'))\\ndf['rn'] = df['rn_avg'].fillna(df['rn'])\\ndf.drop(columns=['time_range', 'rn_avg'], inplace=True)\\n\\ndf['rn'] = df['rn'].round(2)\\n\\nprint(df)\\n\""
      ]
     },
     "execution_count": 8,
     "metadata": {},
     "output_type": "execute_result"
    }
   ],
   "source": [
    "\"\"\"\n",
    "def get_time_range(hour):\n",
    "    if 0 <= hour <= 6:\n",
    "        return '새벽'\n",
    "    elif 6 <= hour <= 11:\n",
    "        return '오전'\n",
    "    elif 12 <= hour <= 17:\n",
    "        return '오후'\n",
    "    else:\n",
    "        return '저녁'\n",
    "\n",
    "# 시간대 및 날짜별 강수량 평균 계산\n",
    "df['time_range'] = df['time'].apply(get_time_range)\n",
    "df_avg_rain = df.groupby(['year', 'month', 'day', 'time_range'])['rn'].mean().reset_index()\n",
    "\n",
    "# 시간대별 평균값으로 채워넣기\n",
    "df = df.merge(df_avg_rain, on=['year', 'month', 'day', 'time_range'], how='left', suffixes=('', '_avg'))\n",
    "df['rn'] = df['rn_avg'].fillna(df['rn'])\n",
    "df.drop(columns=['time_range', 'rn_avg'], inplace=True)\n",
    "\n",
    "df['rn'] = df['rn'].round(2)\n",
    "\n",
    "print(df)\n",
    "\"\"\""
   ]
  },
  {
   "cell_type": "code",
   "execution_count": 9,
   "metadata": {},
   "outputs": [
    {
     "name": "stdout",
     "output_type": "stream",
     "text": [
      "<class 'pandas.core.frame.DataFrame'>\n",
      "RangeIndex: 184695 entries, 0 to 184694\n",
      "Data columns (total 7 columns):\n",
      " #   Column  Non-Null Count   Dtype  \n",
      "---  ------  --------------   -----  \n",
      " 0   ta      184695 non-null  float64\n",
      " 1   rn      184695 non-null  object \n",
      " 2   dsnw    184695 non-null  object \n",
      " 3   year    184695 non-null  int32  \n",
      " 4   month   184695 non-null  int32  \n",
      " 5   day     184695 non-null  int32  \n",
      " 6   time    184695 non-null  int32  \n",
      "dtypes: float64(1), int32(4), object(2)\n",
      "memory usage: 7.0+ MB\n"
     ]
    }
   ],
   "source": [
    "df.info()"
   ]
  },
  {
   "attachments": {},
   "cell_type": "markdown",
   "metadata": {},
   "source": [
    "## Modeling\n",
    "\n",
    "---\n",
    "\n",
    "### 기온모델\n",
    "기온 모델은 날짜만으로 기온을 예측하는 선형 회귀 모델이다."
   ]
  },
  {
   "cell_type": "code",
   "execution_count": 10,
   "metadata": {},
   "outputs": [
    {
     "data": {
      "text/plain": [
       "((184695, 3), (184695,))"
      ]
     },
     "execution_count": 10,
     "metadata": {},
     "output_type": "execute_result"
    }
   ],
   "source": [
    "X = df[['month', 'day', 'time']]\n",
    "y = df['ta']\n",
    "\n",
    "X.shape, y.shape"
   ]
  },
  {
   "cell_type": "code",
   "execution_count": 11,
   "metadata": {},
   "outputs": [],
   "source": [
    "X_train, X_test, y_train, y_test = train_test_split(X, y, test_size=0.2, random_state=42)\n",
    "X_train, X_val, y_train, y_val = train_test_split(X_train, y_train, test_size=0.2, random_state=42)"
   ]
  },
  {
   "cell_type": "code",
   "execution_count": 12,
   "metadata": {},
   "outputs": [
    {
     "name": "stdout",
     "output_type": "stream",
     "text": [
      "0.8815918611566825\n"
     ]
    }
   ],
   "source": [
    "model_ta = XGBRegressor(random_state = 42, max_depth = 15, learning_rate=0.1)\n",
    "model_ta.fit(X_train, y_train)\n",
    "y_val_pred = model_ta.predict(X_val)\n",
    "\n",
    "rmse = mean_squared_error(y_val, y_val_pred, squared=False)\n",
    "print(r2_score(y_val, y_val_pred))"
   ]
  },
  {
   "cell_type": "code",
   "execution_count": 13,
   "metadata": {},
   "outputs": [
    {
     "name": "stdout",
     "output_type": "stream",
     "text": [
      "0.8824712033183947\n"
     ]
    }
   ],
   "source": [
    "y_test_pred = model_ta.predict(X_test)\n",
    "print(r2_score(y_test, y_test_pred))"
   ]
  },
  {
   "cell_type": "code",
   "execution_count": 14,
   "metadata": {},
   "outputs": [],
   "source": [
    "import pickle\n",
    "\n",
    "with open('model_ta.pkl','wb') as pickle_file:\n",
    "    pickle.dump(model_ta, pickle_file)"
   ]
  },
  {
   "attachments": {},
   "cell_type": "markdown",
   "metadata": {},
   "source": [
    "---\n",
    "\n",
    "### 강수량 모델\n",
    "강수량 모델은 기온 모델이 예측한 기온, 날짜를 이용하여 비를 예측하는 모델이다."
   ]
  },
  {
   "cell_type": "code",
   "execution_count": 15,
   "metadata": {},
   "outputs": [],
   "source": [
    "df_rn = df.copy()"
   ]
  },
  {
   "cell_type": "code",
   "execution_count": 16,
   "metadata": {},
   "outputs": [],
   "source": [
    "df_rn = df_rn[df_rn.month <12]\n",
    "df_rn = df_rn[df_rn.month >2]\n",
    "df_rn = df_rn.reset_index(drop=True)"
   ]
  },
  {
   "cell_type": "code",
   "execution_count": 17,
   "metadata": {},
   "outputs": [
    {
     "data": {
      "text/plain": [
       "((139029, 4), (139029,))"
      ]
     },
     "execution_count": 17,
     "metadata": {},
     "output_type": "execute_result"
    }
   ],
   "source": [
    "X = df_rn[['month', 'day', 'time', 'ta']]\n",
    "y = df_rn['rn']\n",
    "\n",
    "X.shape, y.shape"
   ]
  },
  {
   "cell_type": "code",
   "execution_count": 18,
   "metadata": {},
   "outputs": [
    {
     "data": {
      "text/plain": [
       "rn\n",
       "맑음      128855\n",
       "비        10015\n",
       "많은 비       159\n",
       "Name: count, dtype: int64"
      ]
     },
     "execution_count": 18,
     "metadata": {},
     "output_type": "execute_result"
    }
   ],
   "source": [
    "y.value_counts()"
   ]
  },
  {
   "cell_type": "code",
   "execution_count": 19,
   "metadata": {},
   "outputs": [
    {
     "data": {
      "text/plain": [
       "array([1, 1, 1, ..., 1, 1, 1])"
      ]
     },
     "execution_count": 19,
     "metadata": {},
     "output_type": "execute_result"
    }
   ],
   "source": [
    "from sklearn.preprocessing import LabelEncoder\n",
    "\n",
    "# 레이블 인코더 생성\n",
    "label_encoder = LabelEncoder()\n",
    "\n",
    "# 문자열 클래스 레이블을 정수로 변환\n",
    "y_encoded = label_encoder.fit_transform(y)\n",
    "\n",
    "y_encoded"
   ]
  },
  {
   "cell_type": "code",
   "execution_count": 20,
   "metadata": {},
   "outputs": [
    {
     "data": {
      "text/plain": [
       "(array([0, 1, 2]), array([   159, 128855,  10015]))"
      ]
     },
     "execution_count": 20,
     "metadata": {},
     "output_type": "execute_result"
    }
   ],
   "source": [
    "np.unique(y_encoded, return_counts = True)\n",
    "\n",
    "# 0 = 많은 비\n",
    "# 1 = 비 안옴\n",
    "# 2 = 비"
   ]
  },
  {
   "cell_type": "code",
   "execution_count": 21,
   "metadata": {},
   "outputs": [],
   "source": [
    "X_train, X_test, y_train, y_test = train_test_split(X, y_encoded, test_size=0.2, random_state=42)\n",
    "X_train, X_val, y_train, y_val = train_test_split(X_train, y_train, test_size=0.2, random_state=42)"
   ]
  },
  {
   "cell_type": "code",
   "execution_count": 22,
   "metadata": {},
   "outputs": [],
   "source": [
    "model_rn = XGBClassifier(random_state = 42, \n",
    "                         objective='multi:softmax', \n",
    "                         num_class=3, \n",
    "                         max_depth=15,\n",
    "                         learning_rate = 0.25,\n",
    "                         min_child_weight = 0.6)"
   ]
  },
  {
   "cell_type": "code",
   "execution_count": 23,
   "metadata": {},
   "outputs": [],
   "source": [
    "model_rn.fit(X_train, y_train)\n",
    "y_val_pred = model_rn.predict(X_val)\n",
    "y_train_pred = model_rn.predict(X_train)"
   ]
  },
  {
   "cell_type": "code",
   "execution_count": 24,
   "metadata": {},
   "outputs": [
    {
     "name": "stdout",
     "output_type": "stream",
     "text": [
      "Accuracy: 0.9236682400539447\n",
      "Precision: 0.5246702447077837\n",
      "Recall: 0.4238666318430633\n",
      "F1 Score: 0.45015754894793414\n"
     ]
    }
   ],
   "source": [
    "accuracy = accuracy_score(y_val, y_val_pred)\n",
    "precision = precision_score(y_val, y_val_pred, average='macro')\n",
    "recall = recall_score(y_val, y_val_pred, average='macro')\n",
    "f1 = f1_score(y_val, y_val_pred, average='macro')\n",
    "\n",
    "print(\"Accuracy:\", accuracy)\n",
    "print(\"Precision:\", precision)\n",
    "print(\"Recall:\", recall)\n",
    "print(\"F1 Score:\", f1)"
   ]
  },
  {
   "cell_type": "code",
   "execution_count": 25,
   "metadata": {},
   "outputs": [
    {
     "data": {
      "text/plain": [
       "(0.925555635474358, 0.4990679876738579)"
      ]
     },
     "execution_count": 25,
     "metadata": {},
     "output_type": "execute_result"
    }
   ],
   "source": [
    "y_test_pred = model_rn.predict(X_test)\n",
    "accuracy_test = accuracy_score(y_test, y_test_pred)\n",
    "f1_test = f1_score(y_test, y_test_pred, average='macro')\n",
    "\n",
    "accuracy_test, f1_test"
   ]
  },
  {
   "cell_type": "code",
   "execution_count": 26,
   "metadata": {},
   "outputs": [],
   "source": [
    "with open('model_rn.pkl','wb') as pickle_file:\n",
    "    pickle.dump(model_rn, pickle_file)"
   ]
  },
  {
   "attachments": {},
   "cell_type": "markdown",
   "metadata": {},
   "source": [
    "---\n",
    "눈"
   ]
  },
  {
   "cell_type": "code",
   "execution_count": 27,
   "metadata": {},
   "outputs": [],
   "source": [
    "df_sn = df.copy()"
   ]
  },
  {
   "cell_type": "code",
   "execution_count": 28,
   "metadata": {},
   "outputs": [],
   "source": [
    "df_sn = df_sn.query('(month < 3) or (month > 11)')"
   ]
  },
  {
   "cell_type": "code",
   "execution_count": 29,
   "metadata": {},
   "outputs": [
    {
     "data": {
      "text/plain": [
       "((45666, 4), (45666,))"
      ]
     },
     "execution_count": 29,
     "metadata": {},
     "output_type": "execute_result"
    }
   ],
   "source": [
    "X = df_sn[['month', 'day', 'time', 'ta']]\n",
    "y = df_sn['dsnw']\n",
    "\n",
    "X.shape, y.shape"
   ]
  },
  {
   "cell_type": "code",
   "execution_count": 30,
   "metadata": {},
   "outputs": [
    {
     "data": {
      "text/plain": [
       "dsnw\n",
       "눈 없음    0.832107\n",
       "눈       0.167893\n",
       "Name: proportion, dtype: float64"
      ]
     },
     "execution_count": 30,
     "metadata": {},
     "output_type": "execute_result"
    }
   ],
   "source": [
    "y.value_counts(normalize=True)"
   ]
  },
  {
   "cell_type": "code",
   "execution_count": 31,
   "metadata": {},
   "outputs": [
    {
     "data": {
      "text/plain": [
       "array([1, 1, 1, ..., 1, 1, 1])"
      ]
     },
     "execution_count": 31,
     "metadata": {},
     "output_type": "execute_result"
    }
   ],
   "source": [
    "# 레이블 인코더 생성\n",
    "label_encoder = LabelEncoder()\n",
    "\n",
    "# 문자열 클래스 레이블을 정수로 변환\n",
    "y_encoded = label_encoder.fit_transform(y)\n",
    "\n",
    "y_encoded"
   ]
  },
  {
   "cell_type": "code",
   "execution_count": 40,
   "metadata": {},
   "outputs": [
    {
     "data": {
      "text/plain": [
       "(array([0, 1]), array([ 7667, 37999]))"
      ]
     },
     "execution_count": 40,
     "metadata": {},
     "output_type": "execute_result"
    }
   ],
   "source": [
    "np.unique(y_encoded, return_counts = True)\n",
    "\n",
    "# 0= 눈\n",
    "# 1=눈 없음"
   ]
  },
  {
   "cell_type": "code",
   "execution_count": 32,
   "metadata": {},
   "outputs": [],
   "source": [
    "X_train, X_test, y_train, y_test = train_test_split(X, y_encoded, test_size=0.2, random_state=42)\n",
    "X_train, X_val, y_train, y_val = train_test_split(X_train, y_train, test_size=0.2, random_state=42)"
   ]
  },
  {
   "cell_type": "code",
   "execution_count": 33,
   "metadata": {},
   "outputs": [],
   "source": [
    "model_sn = XGBClassifier(random_state = 42, \n",
    "                         objective='binary:logistic',\n",
    "                         max_depth=15,\n",
    "                         learning_rate = 0.2,\n",
    "                         min_child_weight = 0.6)"
   ]
  },
  {
   "cell_type": "code",
   "execution_count": 34,
   "metadata": {},
   "outputs": [],
   "source": [
    "model_sn.fit(X_train, y_train)\n",
    "y_val_pred = model_sn.predict(X_val)\n",
    "y_train_pred = model_sn.predict(X_train)"
   ]
  },
  {
   "cell_type": "code",
   "execution_count": 35,
   "metadata": {},
   "outputs": [
    {
     "name": "stdout",
     "output_type": "stream",
     "text": [
      "Accuracy: 0.8482277268372793\n",
      "Precision: 0.7198713147008773\n",
      "Recall: 0.6825295645004492\n",
      "F1 Score: 0.6979535556416745\n"
     ]
    }
   ],
   "source": [
    "accuracy = accuracy_score(y_val, y_val_pred)\n",
    "precision = precision_score(y_val, y_val_pred, average='macro')\n",
    "recall = recall_score(y_val, y_val_pred, average='macro')\n",
    "f1 = f1_score(y_val, y_val_pred, average='macro')\n",
    "\n",
    "print(\"Accuracy:\", accuracy)\n",
    "print(\"Precision:\", precision)\n",
    "print(\"Recall:\", recall)\n",
    "print(\"F1 Score:\", f1)"
   ]
  },
  {
   "cell_type": "code",
   "execution_count": 36,
   "metadata": {},
   "outputs": [
    {
     "data": {
      "text/plain": [
       "(0.8481497700897744, 0.7025047390429628)"
      ]
     },
     "execution_count": 36,
     "metadata": {},
     "output_type": "execute_result"
    }
   ],
   "source": [
    "y_test_pred = model_sn.predict(X_test)\n",
    "accuracy_test = accuracy_score(y_test, y_test_pred)\n",
    "f1_test = f1_score(y_test, y_test_pred, average='macro')\n",
    "\n",
    "accuracy_test, f1_test"
   ]
  },
  {
   "cell_type": "code",
   "execution_count": 37,
   "metadata": {},
   "outputs": [],
   "source": [
    "with open('model_sn.pkl','wb') as pickle_file:\n",
    "    pickle.dump(model_sn, pickle_file)"
   ]
  },
  {
   "attachments": {},
   "cell_type": "markdown",
   "metadata": {},
   "source": [
    "---\n",
    "\n",
    "기온 정보가 주어지지 않았을 때"
   ]
  },
  {
   "cell_type": "code",
   "execution_count": 10,
   "metadata": {},
   "outputs": [],
   "source": [
    "df_rn = df.copy()"
   ]
  },
  {
   "cell_type": "code",
   "execution_count": 11,
   "metadata": {},
   "outputs": [],
   "source": [
    "df_rn = df_rn[df_rn.month <12]\n",
    "df_rn = df_rn[df_rn.month >2]\n",
    "df_rn = df_rn.reset_index(drop=True)"
   ]
  },
  {
   "cell_type": "code",
   "execution_count": 12,
   "metadata": {},
   "outputs": [
    {
     "data": {
      "text/plain": [
       "((139029, 3), (139029,))"
      ]
     },
     "execution_count": 12,
     "metadata": {},
     "output_type": "execute_result"
    }
   ],
   "source": [
    "X = df_rn[['month', 'day', 'time']]\n",
    "y = df_rn['rn']\n",
    "\n",
    "X.shape, y.shape"
   ]
  },
  {
   "cell_type": "code",
   "execution_count": 13,
   "metadata": {},
   "outputs": [
    {
     "data": {
      "text/plain": [
       "array([1, 1, 1, ..., 1, 1, 1])"
      ]
     },
     "execution_count": 13,
     "metadata": {},
     "output_type": "execute_result"
    }
   ],
   "source": [
    "from sklearn.preprocessing import LabelEncoder\n",
    "\n",
    "# 레이블 인코더 생성\n",
    "label_encoder = LabelEncoder()\n",
    "\n",
    "# 문자열 클래스 레이블을 정수로 변환\n",
    "y_encoded = label_encoder.fit_transform(y)\n",
    "\n",
    "y_encoded"
   ]
  },
  {
   "cell_type": "code",
   "execution_count": 14,
   "metadata": {},
   "outputs": [],
   "source": [
    "X_train, X_test, y_train, y_test = train_test_split(X, y_encoded, test_size=0.2, random_state=42)\n",
    "X_train, X_val, y_train, y_val = train_test_split(X_train, y_train, test_size=0.2, random_state=42)"
   ]
  },
  {
   "cell_type": "code",
   "execution_count": 15,
   "metadata": {},
   "outputs": [],
   "source": [
    "model_rn = XGBClassifier(random_state = 42, \n",
    "                         objective='multi:softmax', \n",
    "                         num_class=3, \n",
    "                         max_depth=15,\n",
    "                         learning_rate = 0.25,\n",
    "                         min_child_weight = 0.6)"
   ]
  },
  {
   "cell_type": "code",
   "execution_count": 16,
   "metadata": {},
   "outputs": [],
   "source": [
    "model_rn.fit(X_train, y_train)\n",
    "y_val_pred = model_rn.predict(X_val)\n",
    "y_train_pred = model_rn.predict(X_train)"
   ]
  },
  {
   "cell_type": "code",
   "execution_count": 17,
   "metadata": {},
   "outputs": [
    {
     "name": "stdout",
     "output_type": "stream",
     "text": [
      "Accuracy: 0.9257810743987412\n",
      "Precision: 0.34801539834937034\n",
      "Recall: 0.3335050333623743\n",
      "F1 Score: 0.3213055924185949\n"
     ]
    }
   ],
   "source": [
    "accuracy = accuracy_score(y_val, y_val_pred)\n",
    "precision = precision_score(y_val, y_val_pred, average='macro')\n",
    "recall = recall_score(y_val, y_val_pred, average='macro')\n",
    "f1 = f1_score(y_val, y_val_pred, average='macro')\n",
    "\n",
    "print(\"Accuracy:\", accuracy)\n",
    "print(\"Precision:\", precision)\n",
    "print(\"Recall:\", recall)\n",
    "print(\"F1 Score:\", f1)"
   ]
  },
  {
   "cell_type": "code",
   "execution_count": 18,
   "metadata": {},
   "outputs": [
    {
     "data": {
      "text/plain": [
       "(0.9274616989139035, 0.32112418413855603)"
      ]
     },
     "execution_count": 18,
     "metadata": {},
     "output_type": "execute_result"
    }
   ],
   "source": [
    "y_test_pred = model_rn.predict(X_test)\n",
    "accuracy_test = accuracy_score(y_test, y_test_pred)\n",
    "f1_test = f1_score(y_test, y_test_pred, average='macro')\n",
    "\n",
    "accuracy_test, f1_test"
   ]
  }
 ],
 "metadata": {
  "kernelspec": {
   "display_name": "project4",
   "language": "python",
   "name": "python3"
  },
  "language_info": {
   "codemirror_mode": {
    "name": "ipython",
    "version": 3
   },
   "file_extension": ".py",
   "mimetype": "text/x-python",
   "name": "python",
   "nbconvert_exporter": "python",
   "pygments_lexer": "ipython3",
   "version": "3.8.16"
  },
  "orig_nbformat": 4
 },
 "nbformat": 4,
 "nbformat_minor": 2
}
